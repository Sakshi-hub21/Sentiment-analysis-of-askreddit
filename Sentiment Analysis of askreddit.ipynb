{
 "cells": [
  {
   "cell_type": "markdown",
   "metadata": {},
   "source": [
    "# Importing Required Libraries"
   ]
  },
  {
   "cell_type": "code",
   "execution_count": 83,
   "metadata": {},
   "outputs": [
    {
     "name": "stderr",
     "output_type": "stream",
     "text": [
      "Matplotlib is building the font cache; this may take a moment.\n"
     ]
    }
   ],
   "source": [
    "import pandas as pd\n",
    "import numpy as np\n",
    "import matplotlib.pyplot as plt"
   ]
  },
  {
   "cell_type": "code",
   "execution_count": 48,
   "metadata": {},
   "outputs": [],
   "source": [
    "# Reading data from csv file using pandas library"
   ]
  },
  {
   "cell_type": "code",
   "execution_count": 49,
   "metadata": {},
   "outputs": [],
   "source": [
    "dataset=pd.read_csv('ask_reddit.csv')"
   ]
  },
  {
   "cell_type": "code",
   "execution_count": 50,
   "metadata": {},
   "outputs": [],
   "source": [
    "# Getting information of how many rows and columns are there in the dataset"
   ]
  },
  {
   "cell_type": "code",
   "execution_count": 51,
   "metadata": {},
   "outputs": [
    {
     "data": {
      "text/plain": [
       "(11259, 8)"
      ]
     },
     "execution_count": 51,
     "metadata": {},
     "output_type": "execute_result"
    }
   ],
   "source": [
    "dataset.shape"
   ]
  },
  {
   "cell_type": "code",
   "execution_count": 52,
   "metadata": {},
   "outputs": [],
   "source": [
    "# Fetching data from the dataset using head() method it displays first 5 data rows without argument."
   ]
  },
  {
   "cell_type": "code",
   "execution_count": 53,
   "metadata": {},
   "outputs": [
    {
     "data": {
      "text/html": [
       "<div>\n",
       "<style scoped>\n",
       "    .dataframe tbody tr th:only-of-type {\n",
       "        vertical-align: middle;\n",
       "    }\n",
       "\n",
       "    .dataframe tbody tr th {\n",
       "        vertical-align: top;\n",
       "    }\n",
       "\n",
       "    .dataframe thead th {\n",
       "        text-align: right;\n",
       "    }\n",
       "</style>\n",
       "<table border=\"1\" class=\"dataframe\">\n",
       "  <thead>\n",
       "    <tr style=\"text-align: right;\">\n",
       "      <th></th>\n",
       "      <th>title</th>\n",
       "      <th>score</th>\n",
       "      <th>id</th>\n",
       "      <th>url</th>\n",
       "      <th>comms_num</th>\n",
       "      <th>created</th>\n",
       "      <th>body</th>\n",
       "      <th>timestamp</th>\n",
       "    </tr>\n",
       "  </thead>\n",
       "  <tbody>\n",
       "    <tr>\n",
       "      <th>0</th>\n",
       "      <td>What moment touched your heart yesterday?</td>\n",
       "      <td>1</td>\n",
       "      <td>plh0o4</td>\n",
       "      <td>https://www.reddit.com/r/AskReddit/comments/pl...</td>\n",
       "      <td>0</td>\n",
       "      <td>1.631263e+09</td>\n",
       "      <td>NaN</td>\n",
       "      <td>2021-09-10 11:32:35</td>\n",
       "    </tr>\n",
       "    <tr>\n",
       "      <th>1</th>\n",
       "      <td>what would your superhero costume look like?</td>\n",
       "      <td>2</td>\n",
       "      <td>pld5l2</td>\n",
       "      <td>https://www.reddit.com/r/AskReddit/comments/pl...</td>\n",
       "      <td>11</td>\n",
       "      <td>1.631245e+09</td>\n",
       "      <td>NaN</td>\n",
       "      <td>2021-09-10 06:31:43</td>\n",
       "    </tr>\n",
       "    <tr>\n",
       "      <th>2</th>\n",
       "      <td>Comment</td>\n",
       "      <td>1</td>\n",
       "      <td>hcaf574</td>\n",
       "      <td>NaN</td>\n",
       "      <td>0</td>\n",
       "      <td>1.631263e+09</td>\n",
       "      <td>When I was in my last year of undergraduate I ...</td>\n",
       "      <td>2021-09-10 11:32:20</td>\n",
       "    </tr>\n",
       "    <tr>\n",
       "      <th>3</th>\n",
       "      <td>Comment</td>\n",
       "      <td>1</td>\n",
       "      <td>hcaf0eo</td>\n",
       "      <td>NaN</td>\n",
       "      <td>0</td>\n",
       "      <td>1.631263e+09</td>\n",
       "      <td>Noriyuki \"Pat\" Morita aka Mr Miyagi from the K...</td>\n",
       "      <td>2021-09-10 11:30:14</td>\n",
       "    </tr>\n",
       "    <tr>\n",
       "      <th>4</th>\n",
       "      <td>Comment</td>\n",
       "      <td>1</td>\n",
       "      <td>hcaf0e3</td>\n",
       "      <td>NaN</td>\n",
       "      <td>0</td>\n",
       "      <td>1.631263e+09</td>\n",
       "      <td>But don't most people want to look good in Vegas?</td>\n",
       "      <td>2021-09-10 11:30:13</td>\n",
       "    </tr>\n",
       "  </tbody>\n",
       "</table>\n",
       "</div>"
      ],
      "text/plain": [
       "                                          title  score       id  \\\n",
       "0     What moment touched your heart yesterday?      1   plh0o4   \n",
       "1  what would your superhero costume look like?      2   pld5l2   \n",
       "2                                       Comment      1  hcaf574   \n",
       "3                                       Comment      1  hcaf0eo   \n",
       "4                                       Comment      1  hcaf0e3   \n",
       "\n",
       "                                                 url  comms_num       created  \\\n",
       "0  https://www.reddit.com/r/AskReddit/comments/pl...          0  1.631263e+09   \n",
       "1  https://www.reddit.com/r/AskReddit/comments/pl...         11  1.631245e+09   \n",
       "2                                                NaN          0  1.631263e+09   \n",
       "3                                                NaN          0  1.631263e+09   \n",
       "4                                                NaN          0  1.631263e+09   \n",
       "\n",
       "                                                body            timestamp  \n",
       "0                                                NaN  2021-09-10 11:32:35  \n",
       "1                                                NaN  2021-09-10 06:31:43  \n",
       "2  When I was in my last year of undergraduate I ...  2021-09-10 11:32:20  \n",
       "3  Noriyuki \"Pat\" Morita aka Mr Miyagi from the K...  2021-09-10 11:30:14  \n",
       "4  But don't most people want to look good in Vegas?  2021-09-10 11:30:13  "
      ]
     },
     "execution_count": 53,
     "metadata": {},
     "output_type": "execute_result"
    }
   ],
   "source": [
    "dataset.head()"
   ]
  },
  {
   "cell_type": "code",
   "execution_count": 12,
   "metadata": {},
   "outputs": [],
   "source": [
    "# Fetching data from dataset using tail() method it displays last 5 data rows without argument and with argument we have to \n",
    "# enter integer value."
   ]
  },
  {
   "cell_type": "code",
   "execution_count": 54,
   "metadata": {},
   "outputs": [
    {
     "data": {
      "text/html": [
       "<div>\n",
       "<style scoped>\n",
       "    .dataframe tbody tr th:only-of-type {\n",
       "        vertical-align: middle;\n",
       "    }\n",
       "\n",
       "    .dataframe tbody tr th {\n",
       "        vertical-align: top;\n",
       "    }\n",
       "\n",
       "    .dataframe thead th {\n",
       "        text-align: right;\n",
       "    }\n",
       "</style>\n",
       "<table border=\"1\" class=\"dataframe\">\n",
       "  <thead>\n",
       "    <tr style=\"text-align: right;\">\n",
       "      <th></th>\n",
       "      <th>title</th>\n",
       "      <th>score</th>\n",
       "      <th>id</th>\n",
       "      <th>url</th>\n",
       "      <th>comms_num</th>\n",
       "      <th>created</th>\n",
       "      <th>body</th>\n",
       "      <th>timestamp</th>\n",
       "    </tr>\n",
       "  </thead>\n",
       "  <tbody>\n",
       "    <tr>\n",
       "      <th>11239</th>\n",
       "      <td>Comment</td>\n",
       "      <td>1</td>\n",
       "      <td>hdfxqd9</td>\n",
       "      <td>NaN</td>\n",
       "      <td>0</td>\n",
       "      <td>1.632042e+09</td>\n",
       "      <td>What could be worse than existing forever? I'l...</td>\n",
       "      <td>2021-09-19 11:59:28</td>\n",
       "    </tr>\n",
       "    <tr>\n",
       "      <th>11240</th>\n",
       "      <td>Comment</td>\n",
       "      <td>1</td>\n",
       "      <td>hdfxqd1</td>\n",
       "      <td>NaN</td>\n",
       "      <td>0</td>\n",
       "      <td>1.632042e+09</td>\n",
       "      <td>I lol'd reading this</td>\n",
       "      <td>2021-09-19 11:59:28</td>\n",
       "    </tr>\n",
       "    <tr>\n",
       "      <th>11241</th>\n",
       "      <td>Comment</td>\n",
       "      <td>1</td>\n",
       "      <td>hdfxqbj</td>\n",
       "      <td>NaN</td>\n",
       "      <td>0</td>\n",
       "      <td>1.632042e+09</td>\n",
       "      <td>If I look at the amount of girls I have ever t...</td>\n",
       "      <td>2021-09-19 11:59:27</td>\n",
       "    </tr>\n",
       "    <tr>\n",
       "      <th>11242</th>\n",
       "      <td>Comment</td>\n",
       "      <td>1</td>\n",
       "      <td>hdfxqbe</td>\n",
       "      <td>NaN</td>\n",
       "      <td>0</td>\n",
       "      <td>1.632042e+09</td>\n",
       "      <td>That's basically with every guy, we don't stop...</td>\n",
       "      <td>2021-09-19 11:59:27</td>\n",
       "    </tr>\n",
       "    <tr>\n",
       "      <th>11243</th>\n",
       "      <td>Comment</td>\n",
       "      <td>1</td>\n",
       "      <td>hdfxq98</td>\n",
       "      <td>NaN</td>\n",
       "      <td>0</td>\n",
       "      <td>1.632042e+09</td>\n",
       "      <td>Just all over the British Isles</td>\n",
       "      <td>2021-09-19 11:59:26</td>\n",
       "    </tr>\n",
       "    <tr>\n",
       "      <th>11244</th>\n",
       "      <td>Comment</td>\n",
       "      <td>1</td>\n",
       "      <td>hdfxq8w</td>\n",
       "      <td>NaN</td>\n",
       "      <td>0</td>\n",
       "      <td>1.632042e+09</td>\n",
       "      <td>I'm sure it seems that way to the unimaginative.</td>\n",
       "      <td>2021-09-19 11:59:26</td>\n",
       "    </tr>\n",
       "    <tr>\n",
       "      <th>11245</th>\n",
       "      <td>Comment</td>\n",
       "      <td>1</td>\n",
       "      <td>hdfxq8q</td>\n",
       "      <td>NaN</td>\n",
       "      <td>0</td>\n",
       "      <td>1.632042e+09</td>\n",
       "      <td>Yes! I was hoping someone would say this! Such...</td>\n",
       "      <td>2021-09-19 11:59:25</td>\n",
       "    </tr>\n",
       "    <tr>\n",
       "      <th>11246</th>\n",
       "      <td>Comment</td>\n",
       "      <td>1</td>\n",
       "      <td>hdfxq8l</td>\n",
       "      <td>NaN</td>\n",
       "      <td>0</td>\n",
       "      <td>1.632042e+09</td>\n",
       "      <td>hahahaha wtf, just listening to it here...holy...</td>\n",
       "      <td>2021-09-19 11:59:25</td>\n",
       "    </tr>\n",
       "    <tr>\n",
       "      <th>11247</th>\n",
       "      <td>Comment</td>\n",
       "      <td>1</td>\n",
       "      <td>hdfxq8h</td>\n",
       "      <td>NaN</td>\n",
       "      <td>0</td>\n",
       "      <td>1.632042e+09</td>\n",
       "      <td>Having a family</td>\n",
       "      <td>2021-09-19 11:59:25</td>\n",
       "    </tr>\n",
       "    <tr>\n",
       "      <th>11248</th>\n",
       "      <td>Comment</td>\n",
       "      <td>1</td>\n",
       "      <td>hdfxq7y</td>\n",
       "      <td>NaN</td>\n",
       "      <td>0</td>\n",
       "      <td>1.632042e+09</td>\n",
       "      <td>Yeah, I ducking love that song. And solitude</td>\n",
       "      <td>2021-09-19 11:59:25</td>\n",
       "    </tr>\n",
       "    <tr>\n",
       "      <th>11249</th>\n",
       "      <td>Comment</td>\n",
       "      <td>1</td>\n",
       "      <td>hdfxq7i</td>\n",
       "      <td>NaN</td>\n",
       "      <td>0</td>\n",
       "      <td>1.632042e+09</td>\n",
       "      <td>Panopticon by Isis (the good one)</td>\n",
       "      <td>2021-09-19 11:59:25</td>\n",
       "    </tr>\n",
       "    <tr>\n",
       "      <th>11250</th>\n",
       "      <td>Comment</td>\n",
       "      <td>1</td>\n",
       "      <td>hdfxq74</td>\n",
       "      <td>NaN</td>\n",
       "      <td>0</td>\n",
       "      <td>1.632042e+09</td>\n",
       "      <td>Ain’t it mane</td>\n",
       "      <td>2021-09-19 11:59:25</td>\n",
       "    </tr>\n",
       "    <tr>\n",
       "      <th>11251</th>\n",
       "      <td>Comment</td>\n",
       "      <td>1</td>\n",
       "      <td>hdfxq6a</td>\n",
       "      <td>NaN</td>\n",
       "      <td>0</td>\n",
       "      <td>1.632042e+09</td>\n",
       "      <td>I slowly pour the mayonnaise down my pants, wh...</td>\n",
       "      <td>2021-09-19 11:59:24</td>\n",
       "    </tr>\n",
       "    <tr>\n",
       "      <th>11252</th>\n",
       "      <td>Comment</td>\n",
       "      <td>1</td>\n",
       "      <td>hdfxq68</td>\n",
       "      <td>NaN</td>\n",
       "      <td>0</td>\n",
       "      <td>1.632042e+09</td>\n",
       "      <td>Happy cake day, my fellow redditor</td>\n",
       "      <td>2021-09-19 11:59:24</td>\n",
       "    </tr>\n",
       "    <tr>\n",
       "      <th>11253</th>\n",
       "      <td>Comment</td>\n",
       "      <td>1</td>\n",
       "      <td>hdfxq5c</td>\n",
       "      <td>NaN</td>\n",
       "      <td>0</td>\n",
       "      <td>1.632042e+09</td>\n",
       "      <td>Ice cream van jingle</td>\n",
       "      <td>2021-09-19 11:59:24</td>\n",
       "    </tr>\n",
       "    <tr>\n",
       "      <th>11254</th>\n",
       "      <td>Comment</td>\n",
       "      <td>1</td>\n",
       "      <td>hdfxq3p</td>\n",
       "      <td>NaN</td>\n",
       "      <td>0</td>\n",
       "      <td>1.632042e+09</td>\n",
       "      <td>One Cold Morning by Makkon (get to 0:50 and go...</td>\n",
       "      <td>2021-09-19 11:59:22</td>\n",
       "    </tr>\n",
       "    <tr>\n",
       "      <th>11255</th>\n",
       "      <td>Comment</td>\n",
       "      <td>1</td>\n",
       "      <td>hdfxq1q</td>\n",
       "      <td>NaN</td>\n",
       "      <td>0</td>\n",
       "      <td>1.632042e+09</td>\n",
       "      <td>Hop on clash Royale with the boys</td>\n",
       "      <td>2021-09-19 11:59:21</td>\n",
       "    </tr>\n",
       "    <tr>\n",
       "      <th>11256</th>\n",
       "      <td>Comment</td>\n",
       "      <td>1</td>\n",
       "      <td>hdfxq11</td>\n",
       "      <td>NaN</td>\n",
       "      <td>0</td>\n",
       "      <td>1.632042e+09</td>\n",
       "      <td>The Beatles - The Sgt Pepper Lonely Hearts Clu...</td>\n",
       "      <td>2021-09-19 11:59:21</td>\n",
       "    </tr>\n",
       "    <tr>\n",
       "      <th>11257</th>\n",
       "      <td>Comment</td>\n",
       "      <td>1</td>\n",
       "      <td>hdfxpzc</td>\n",
       "      <td>NaN</td>\n",
       "      <td>0</td>\n",
       "      <td>1.632042e+09</td>\n",
       "      <td>You can triple the prices if you make the bran...</td>\n",
       "      <td>2021-09-19 11:59:20</td>\n",
       "    </tr>\n",
       "    <tr>\n",
       "      <th>11258</th>\n",
       "      <td>Comment</td>\n",
       "      <td>1</td>\n",
       "      <td>hdfxpyh</td>\n",
       "      <td>NaN</td>\n",
       "      <td>0</td>\n",
       "      <td>1.632042e+09</td>\n",
       "      <td>Confidence is sexy so this seems legit</td>\n",
       "      <td>2021-09-19 11:59:19</td>\n",
       "    </tr>\n",
       "  </tbody>\n",
       "</table>\n",
       "</div>"
      ],
      "text/plain": [
       "         title  score       id  url  comms_num       created  \\\n",
       "11239  Comment      1  hdfxqd9  NaN          0  1.632042e+09   \n",
       "11240  Comment      1  hdfxqd1  NaN          0  1.632042e+09   \n",
       "11241  Comment      1  hdfxqbj  NaN          0  1.632042e+09   \n",
       "11242  Comment      1  hdfxqbe  NaN          0  1.632042e+09   \n",
       "11243  Comment      1  hdfxq98  NaN          0  1.632042e+09   \n",
       "11244  Comment      1  hdfxq8w  NaN          0  1.632042e+09   \n",
       "11245  Comment      1  hdfxq8q  NaN          0  1.632042e+09   \n",
       "11246  Comment      1  hdfxq8l  NaN          0  1.632042e+09   \n",
       "11247  Comment      1  hdfxq8h  NaN          0  1.632042e+09   \n",
       "11248  Comment      1  hdfxq7y  NaN          0  1.632042e+09   \n",
       "11249  Comment      1  hdfxq7i  NaN          0  1.632042e+09   \n",
       "11250  Comment      1  hdfxq74  NaN          0  1.632042e+09   \n",
       "11251  Comment      1  hdfxq6a  NaN          0  1.632042e+09   \n",
       "11252  Comment      1  hdfxq68  NaN          0  1.632042e+09   \n",
       "11253  Comment      1  hdfxq5c  NaN          0  1.632042e+09   \n",
       "11254  Comment      1  hdfxq3p  NaN          0  1.632042e+09   \n",
       "11255  Comment      1  hdfxq1q  NaN          0  1.632042e+09   \n",
       "11256  Comment      1  hdfxq11  NaN          0  1.632042e+09   \n",
       "11257  Comment      1  hdfxpzc  NaN          0  1.632042e+09   \n",
       "11258  Comment      1  hdfxpyh  NaN          0  1.632042e+09   \n",
       "\n",
       "                                                    body            timestamp  \n",
       "11239  What could be worse than existing forever? I'l...  2021-09-19 11:59:28  \n",
       "11240                               I lol'd reading this  2021-09-19 11:59:28  \n",
       "11241  If I look at the amount of girls I have ever t...  2021-09-19 11:59:27  \n",
       "11242  That's basically with every guy, we don't stop...  2021-09-19 11:59:27  \n",
       "11243                    Just all over the British Isles  2021-09-19 11:59:26  \n",
       "11244   I'm sure it seems that way to the unimaginative.  2021-09-19 11:59:26  \n",
       "11245  Yes! I was hoping someone would say this! Such...  2021-09-19 11:59:25  \n",
       "11246  hahahaha wtf, just listening to it here...holy...  2021-09-19 11:59:25  \n",
       "11247                                    Having a family  2021-09-19 11:59:25  \n",
       "11248       Yeah, I ducking love that song. And solitude  2021-09-19 11:59:25  \n",
       "11249                  Panopticon by Isis (the good one)  2021-09-19 11:59:25  \n",
       "11250                                      Ain’t it mane  2021-09-19 11:59:25  \n",
       "11251  I slowly pour the mayonnaise down my pants, wh...  2021-09-19 11:59:24  \n",
       "11252                 Happy cake day, my fellow redditor  2021-09-19 11:59:24  \n",
       "11253                               Ice cream van jingle  2021-09-19 11:59:24  \n",
       "11254  One Cold Morning by Makkon (get to 0:50 and go...  2021-09-19 11:59:22  \n",
       "11255                  Hop on clash Royale with the boys  2021-09-19 11:59:21  \n",
       "11256  The Beatles - The Sgt Pepper Lonely Hearts Clu...  2021-09-19 11:59:21  \n",
       "11257  You can triple the prices if you make the bran...  2021-09-19 11:59:20  \n",
       "11258             Confidence is sexy so this seems legit  2021-09-19 11:59:19  "
      ]
     },
     "execution_count": 54,
     "metadata": {},
     "output_type": "execute_result"
    }
   ],
   "source": [
    "dataset.tail(20)"
   ]
  },
  {
   "cell_type": "code",
   "execution_count": 55,
   "metadata": {},
   "outputs": [
    {
     "data": {
      "text/plain": [
       "Index(['title', 'score', 'id', 'url', 'comms_num', 'created', 'body',\n",
       "       'timestamp'],\n",
       "      dtype='object')"
      ]
     },
     "execution_count": 55,
     "metadata": {},
     "output_type": "execute_result"
    }
   ],
   "source": [
    "dataset.columns"
   ]
  },
  {
   "cell_type": "code",
   "execution_count": 56,
   "metadata": {},
   "outputs": [],
   "source": [
    "# Getting information about null values using isnull() method and sum() method returns column wise total number of null values"
   ]
  },
  {
   "cell_type": "code",
   "execution_count": 57,
   "metadata": {},
   "outputs": [
    {
     "data": {
      "text/plain": [
       "title           0\n",
       "score           0\n",
       "id              0\n",
       "url          5507\n",
       "comms_num       0\n",
       "created         0\n",
       "body         5752\n",
       "timestamp       0\n",
       "dtype: int64"
      ]
     },
     "execution_count": 57,
     "metadata": {},
     "output_type": "execute_result"
    }
   ],
   "source": [
    "dataset.isnull().sum()"
   ]
  },
  {
   "cell_type": "code",
   "execution_count": 58,
   "metadata": {},
   "outputs": [],
   "source": [
    "# Since created and id columns are of no use while performing sentiment analysis will drop it i.e. remove those columns."
   ]
  },
  {
   "cell_type": "code",
   "execution_count": 59,
   "metadata": {},
   "outputs": [],
   "source": [
    "dataset=dataset.drop(['created','id'],axis=1)"
   ]
  },
  {
   "cell_type": "code",
   "execution_count": 122,
   "metadata": {},
   "outputs": [
    {
     "data": {
      "text/html": [
       "<div>\n",
       "<style scoped>\n",
       "    .dataframe tbody tr th:only-of-type {\n",
       "        vertical-align: middle;\n",
       "    }\n",
       "\n",
       "    .dataframe tbody tr th {\n",
       "        vertical-align: top;\n",
       "    }\n",
       "\n",
       "    .dataframe thead th {\n",
       "        text-align: right;\n",
       "    }\n",
       "</style>\n",
       "<table border=\"1\" class=\"dataframe\">\n",
       "  <thead>\n",
       "    <tr style=\"text-align: right;\">\n",
       "      <th></th>\n",
       "      <th>title</th>\n",
       "      <th>score</th>\n",
       "      <th>url</th>\n",
       "      <th>comms_num</th>\n",
       "      <th>body</th>\n",
       "      <th>timestamp</th>\n",
       "    </tr>\n",
       "  </thead>\n",
       "  <tbody>\n",
       "    <tr>\n",
       "      <th>0</th>\n",
       "      <td>What moment touched your heart yesterday?</td>\n",
       "      <td>1</td>\n",
       "      <td>https://www.reddit.com/r/AskReddit/comments/pl...</td>\n",
       "      <td>0</td>\n",
       "      <td>NaN</td>\n",
       "      <td>2021-09-10 11:32:35</td>\n",
       "    </tr>\n",
       "    <tr>\n",
       "      <th>1</th>\n",
       "      <td>what would your superhero costume look like?</td>\n",
       "      <td>2</td>\n",
       "      <td>https://www.reddit.com/r/AskReddit/comments/pl...</td>\n",
       "      <td>11</td>\n",
       "      <td>NaN</td>\n",
       "      <td>2021-09-10 06:31:43</td>\n",
       "    </tr>\n",
       "    <tr>\n",
       "      <th>2</th>\n",
       "      <td>Comment</td>\n",
       "      <td>1</td>\n",
       "      <td>NaN</td>\n",
       "      <td>0</td>\n",
       "      <td>When I was in my last year of undergraduate I ...</td>\n",
       "      <td>2021-09-10 11:32:20</td>\n",
       "    </tr>\n",
       "    <tr>\n",
       "      <th>3</th>\n",
       "      <td>Comment</td>\n",
       "      <td>1</td>\n",
       "      <td>NaN</td>\n",
       "      <td>0</td>\n",
       "      <td>Noriyuki \"Pat\" Morita aka Mr Miyagi from the K...</td>\n",
       "      <td>2021-09-10 11:30:14</td>\n",
       "    </tr>\n",
       "    <tr>\n",
       "      <th>4</th>\n",
       "      <td>Comment</td>\n",
       "      <td>1</td>\n",
       "      <td>NaN</td>\n",
       "      <td>0</td>\n",
       "      <td>But don't most people want to look good in Vegas?</td>\n",
       "      <td>2021-09-10 11:30:13</td>\n",
       "    </tr>\n",
       "    <tr>\n",
       "      <th>...</th>\n",
       "      <td>...</td>\n",
       "      <td>...</td>\n",
       "      <td>...</td>\n",
       "      <td>...</td>\n",
       "      <td>...</td>\n",
       "      <td>...</td>\n",
       "    </tr>\n",
       "    <tr>\n",
       "      <th>11254</th>\n",
       "      <td>Comment</td>\n",
       "      <td>1</td>\n",
       "      <td>NaN</td>\n",
       "      <td>0</td>\n",
       "      <td>One Cold Morning by Makkon (get to 0:50 and go...</td>\n",
       "      <td>2021-09-19 11:59:22</td>\n",
       "    </tr>\n",
       "    <tr>\n",
       "      <th>11255</th>\n",
       "      <td>Comment</td>\n",
       "      <td>1</td>\n",
       "      <td>NaN</td>\n",
       "      <td>0</td>\n",
       "      <td>Hop on clash Royale with the boys</td>\n",
       "      <td>2021-09-19 11:59:21</td>\n",
       "    </tr>\n",
       "    <tr>\n",
       "      <th>11256</th>\n",
       "      <td>Comment</td>\n",
       "      <td>1</td>\n",
       "      <td>NaN</td>\n",
       "      <td>0</td>\n",
       "      <td>The Beatles - The Sgt Pepper Lonely Hearts Clu...</td>\n",
       "      <td>2021-09-19 11:59:21</td>\n",
       "    </tr>\n",
       "    <tr>\n",
       "      <th>11257</th>\n",
       "      <td>Comment</td>\n",
       "      <td>1</td>\n",
       "      <td>NaN</td>\n",
       "      <td>0</td>\n",
       "      <td>You can triple the prices if you make the bran...</td>\n",
       "      <td>2021-09-19 11:59:20</td>\n",
       "    </tr>\n",
       "    <tr>\n",
       "      <th>11258</th>\n",
       "      <td>Comment</td>\n",
       "      <td>1</td>\n",
       "      <td>NaN</td>\n",
       "      <td>0</td>\n",
       "      <td>Confidence is sexy so this seems legit</td>\n",
       "      <td>2021-09-19 11:59:19</td>\n",
       "    </tr>\n",
       "  </tbody>\n",
       "</table>\n",
       "<p>11259 rows × 6 columns</p>\n",
       "</div>"
      ],
      "text/plain": [
       "                                              title  score  \\\n",
       "0         What moment touched your heart yesterday?      1   \n",
       "1      what would your superhero costume look like?      2   \n",
       "2                                           Comment      1   \n",
       "3                                           Comment      1   \n",
       "4                                           Comment      1   \n",
       "...                                             ...    ...   \n",
       "11254                                       Comment      1   \n",
       "11255                                       Comment      1   \n",
       "11256                                       Comment      1   \n",
       "11257                                       Comment      1   \n",
       "11258                                       Comment      1   \n",
       "\n",
       "                                                     url  comms_num  \\\n",
       "0      https://www.reddit.com/r/AskReddit/comments/pl...          0   \n",
       "1      https://www.reddit.com/r/AskReddit/comments/pl...         11   \n",
       "2                                                    NaN          0   \n",
       "3                                                    NaN          0   \n",
       "4                                                    NaN          0   \n",
       "...                                                  ...        ...   \n",
       "11254                                                NaN          0   \n",
       "11255                                                NaN          0   \n",
       "11256                                                NaN          0   \n",
       "11257                                                NaN          0   \n",
       "11258                                                NaN          0   \n",
       "\n",
       "                                                    body            timestamp  \n",
       "0                                                    NaN  2021-09-10 11:32:35  \n",
       "1                                                    NaN  2021-09-10 06:31:43  \n",
       "2      When I was in my last year of undergraduate I ...  2021-09-10 11:32:20  \n",
       "3      Noriyuki \"Pat\" Morita aka Mr Miyagi from the K...  2021-09-10 11:30:14  \n",
       "4      But don't most people want to look good in Vegas?  2021-09-10 11:30:13  \n",
       "...                                                  ...                  ...  \n",
       "11254  One Cold Morning by Makkon (get to 0:50 and go...  2021-09-19 11:59:22  \n",
       "11255                  Hop on clash Royale with the boys  2021-09-19 11:59:21  \n",
       "11256  The Beatles - The Sgt Pepper Lonely Hearts Clu...  2021-09-19 11:59:21  \n",
       "11257  You can triple the prices if you make the bran...  2021-09-19 11:59:20  \n",
       "11258             Confidence is sexy so this seems legit  2021-09-19 11:59:19  \n",
       "\n",
       "[11259 rows x 6 columns]"
      ]
     },
     "execution_count": 122,
     "metadata": {},
     "output_type": "execute_result"
    }
   ],
   "source": [
    "dataset"
   ]
  },
  {
   "cell_type": "code",
   "execution_count": null,
   "metadata": {},
   "outputs": [],
   "source": [
    "# listing out some of the keywords that I have noticed and guessed that those keywords occurence will be more."
   ]
  },
  {
   "cell_type": "code",
   "execution_count": 69,
   "metadata": {},
   "outputs": [],
   "source": [
    "mainkeywords = [\"Comment\", \"what\", \"superhero\", \"moment\", \"touched\", \"look\", \"moon\", \"title\", \"yesterday\", \"heart\", \"you\", \"people\", \"most\", \"important\", \"thing\", \"reddit\", \"first\", \"time\",\"funniest\",\"health\",\"smell\",\"day\",\"money\",\"dream\"]"
   ]
  },
  {
   "cell_type": "code",
   "execution_count": 70,
   "metadata": {},
   "outputs": [
    {
     "data": {
      "text/plain": [
       "['Comment',\n",
       " 'what',\n",
       " 'superhero',\n",
       " 'moment',\n",
       " 'touched',\n",
       " 'look',\n",
       " 'moon',\n",
       " 'title',\n",
       " 'yesterday',\n",
       " 'heart',\n",
       " 'you',\n",
       " 'people',\n",
       " 'most',\n",
       " 'important',\n",
       " 'thing',\n",
       " 'reddit',\n",
       " 'first',\n",
       " 'time',\n",
       " 'funniest',\n",
       " 'health',\n",
       " 'smell',\n",
       " 'day',\n",
       " 'money',\n",
       " 'dream']"
      ]
     },
     "execution_count": 70,
     "metadata": {},
     "output_type": "execute_result"
    }
   ],
   "source": [
    "mainkeywords"
   ]
  },
  {
   "cell_type": "code",
   "execution_count": null,
   "metadata": {},
   "outputs": [],
   "source": [
    "# Converting all capital letters into smaller leters i.e lowercase for making occurence count easier. Firstly we will take\n",
    "# title attribute."
   ]
  },
  {
   "cell_type": "code",
   "execution_count": 64,
   "metadata": {},
   "outputs": [
    {
     "data": {
      "text/plain": [
       "0           what moment touched your heart yesterday?\n",
       "1        what would your superhero costume look like?\n",
       "2                                             comment\n",
       "3                                             comment\n",
       "4                                             comment\n",
       "                             ...                     \n",
       "11254                                         comment\n",
       "11255                                         comment\n",
       "11256                                         comment\n",
       "11257                                         comment\n",
       "11258                                         comment\n",
       "Name: title, Length: 11259, dtype: object"
      ]
     },
     "execution_count": 64,
     "metadata": {},
     "output_type": "execute_result"
    }
   ],
   "source": [
    "dataset['title'].str.lower()"
   ]
  },
  {
   "cell_type": "code",
   "execution_count": null,
   "metadata": {},
   "outputs": [],
   "source": [
    "# Finding out the occurence of each keywords"
   ]
  },
  {
   "cell_type": "code",
   "execution_count": 105,
   "metadata": {},
   "outputs": [
    {
     "name": "stdout",
     "output_type": "stream",
     "text": [
      "Comment got: 5507 occurences\n",
      "what got: 1095 occurences\n",
      "superhero got: 6 occurences\n",
      "moment got: 89 occurences\n",
      "touched got: 5 occurences\n",
      "look: 65 occurences\n"
     ]
    }
   ],
   "source": [
    "Comment = dataset['title'].str.contains('Comment')\n",
    "Comment1 = Comment.sum()\n",
    "print('Comment got:',Comment1,'occurences')\n",
    "\n",
    "what = dataset['title'].str.contains('what')\n",
    "what1 = what.sum()\n",
    "print('what got:',what1,'occurences')\n",
    "\n",
    "superhero = dataset['title'].str.contains('superhero')\n",
    "superhero1 = superhero.sum()\n",
    "print('superhero got:',superhero1,'occurences')\n",
    "\n",
    "moment = dataset['title'].str.contains('moment')\n",
    "moment1 = moment.sum()\n",
    "print('moment got:',moment1,'occurences')\n",
    "\n",
    "touched =dataset['title'].str.contains('touched')\n",
    "touched1 = touched.sum()\n",
    "print('touched got:',touched1,'occurences')\n",
    "\n",
    "look = dataset['title'].str.contains('look')\n",
    "look1 = look.sum()\n",
    "print('look:',look1,'occurences')"
   ]
  },
  {
   "cell_type": "code",
   "execution_count": 106,
   "metadata": {},
   "outputs": [
    {
     "name": "stdout",
     "output_type": "stream",
     "text": [
      "moon got: 2 occurences\n",
      "title got: 15 occurences\n",
      "heart got: 15 occurences\n",
      "you got: 4242 occurences\n",
      "people got 246 occurences\n"
     ]
    }
   ],
   "source": [
    "moon = dataset['title'].str.contains('moon')\n",
    "moon1 = moon.sum()\n",
    "print('moon got:',moon1,'occurences')\n",
    "\n",
    "title = dataset['title'].str.contains('title')\n",
    "title1 = title.sum()\n",
    "print('title got:',title1,'occurences')\n",
    "\n",
    "heart = dataset['title'].str.contains('heart')\n",
    "heart1 = heart.sum()\n",
    "print('heart got:',heart1,'occurences')\n",
    "\n",
    "you =dataset['title'].str.contains('you')\n",
    "you1 = you.sum()\n",
    "print('you got:',you1,'occurences')\n",
    "\n",
    "people = dataset['title'].str.contains('people')\n",
    "people1 = people.sum()\n",
    "print('people got',people1,'occurences')"
   ]
  },
  {
   "cell_type": "code",
   "execution_count": 107,
   "metadata": {},
   "outputs": [
    {
     "name": "stdout",
     "output_type": "stream",
     "text": [
      "most got: 467 occurences\n",
      "important got: 19 occurences\n",
      "thing got: 833 occurences\n",
      "reddit got: 196 occurences\n",
      "first got: 138 occurences\n",
      "time got  244 occurences\n"
     ]
    }
   ],
   "source": [
    "most = dataset['title'].str.contains('most')\n",
    "most1 = most.sum()\n",
    "print('most got:',most1,'occurences')\n",
    "\n",
    "important = dataset['title'].str.contains('important')\n",
    "important1 =important.sum()\n",
    "print('important got:',important1,'occurences')\n",
    "\n",
    "thing = dataset['title'].str.contains('thing')\n",
    "thing1 = thing.sum()\n",
    "print('thing got:',thing1,'occurences')\n",
    "\n",
    "reddit = dataset['title'].str.contains('reddit')\n",
    "reddit1 = reddit.sum()\n",
    "print('reddit got:',reddit1,'occurences')\n",
    "\n",
    "first =dataset['title'].str.contains('first')\n",
    "first1 = first.sum()\n",
    "print('first got:',first1,'occurences')\n",
    "\n",
    "time = dataset['title'].str.contains('time')\n",
    "time1 =time.sum()\n",
    "print('time got ',time1,'occurences')"
   ]
  },
  {
   "cell_type": "code",
   "execution_count": 108,
   "metadata": {},
   "outputs": [
    {
     "name": "stdout",
     "output_type": "stream",
     "text": [
      "dream got: 43 occurences\n",
      "funniest got: 32 occurences\n",
      "day got: 207 occurences\n",
      "money got 48 occurences\n"
     ]
    }
   ],
   "source": [
    "dream = dataset['title'].str.contains('dream')\n",
    "dream1 = dream.sum()\n",
    "print('dream got:',dream1,'occurences')\n",
    "\n",
    "funniest = dataset['title'].str.contains('funniest')\n",
    "funniest1 = funniest.sum()\n",
    "print('funniest got:',funniest1,'occurences')\n",
    "\n",
    "day =dataset['title'].str.contains('day')\n",
    "day1 = day.sum()\n",
    "print('day got:',day1,'occurences')\n",
    "\n",
    "money = dataset['title'].str.contains('money')\n",
    "money1 = money.sum()\n",
    "print('money got',money1,'occurences')"
   ]
  },
  {
   "cell_type": "code",
   "execution_count": null,
   "metadata": {},
   "outputs": [],
   "source": [
    "# Storing sum of occurence of all the keywords that I have guessed and noticed in the dataset"
   ]
  },
  {
   "cell_type": "code",
   "execution_count": 109,
   "metadata": {},
   "outputs": [],
   "source": [
    "title_mainkeyword_list = [Comment1,what1,superhero1,moment1,touched1,look1,moon1,title1,heart1,you1,people1,most1,thing1,reddit1,first1,time1,funniest1,money1,day1,money1,dream1,important1]"
   ]
  },
  {
   "cell_type": "code",
   "execution_count": 133,
   "metadata": {},
   "outputs": [],
   "source": [
    "# Ploting the piechart to see the percentage of all the occurence of the keywords"
   ]
  },
  {
   "cell_type": "code",
   "execution_count": 134,
   "metadata": {},
   "outputs": [
    {
     "data": {
      "image/png": "[encoded data removed]",
      "text/plain": [
       "<Figure size 1080x936 with 1 Axes>"
      ]
     },
     "metadata": {},
     "output_type": "display_data"
    }
   ],
   "source": [
    "val = title_mainkeyword_list\n",
    "label1 = ['Comment','what','superhero','moment','touched','look','moon','title','heart','you','people','most','thing','reddit','first','time','funniest','money','day','money','dream','important']\n",
    "fig = plt.figure(figsize =(15, 13)) \n",
    "plt.pie(val, labels = label1, autopct='%1.0f%%');"
   ]
  },
  {
   "cell_type": "code",
   "execution_count": null,
   "metadata": {},
   "outputs": [],
   "source": [
    "# Same thing we will do for the body attribute"
   ]
  },
  {
   "cell_type": "code",
   "execution_count": 112,
   "metadata": {},
   "outputs": [
    {
     "data": {
      "text/plain": [
       "0                                                      NaN\n",
       "1                                                      NaN\n",
       "2        when i was in my last year of undergraduate i ...\n",
       "3        noriyuki \"pat\" morita aka mr miyagi from the k...\n",
       "4        but don't most people want to look good in vegas?\n",
       "                               ...                        \n",
       "11254    one cold morning by makkon (get to 0:50 and go...\n",
       "11255                    hop on clash royale with the boys\n",
       "11256    the beatles - the sgt pepper lonely hearts clu...\n",
       "11257    you can triple the prices if you make the bran...\n",
       "11258               confidence is sexy so this seems legit\n",
       "Name: body, Length: 11259, dtype: object"
      ]
     },
     "execution_count": 112,
     "metadata": {},
     "output_type": "execute_result"
    }
   ],
   "source": [
    "dataset['body'].str.lower()"
   ]
  },
  {
   "cell_type": "code",
   "execution_count": 113,
   "metadata": {},
   "outputs": [
    {
     "name": "stdout",
     "output_type": "stream",
     "text": [
      "Comment got: 1 occurences\n",
      "what got: 285 occurences\n",
      "superhero got: 2 occurences\n",
      "moment got: 32 occurences\n",
      "touched got: 5 occurences\n",
      "look: 113 occurences\n"
     ]
    }
   ],
   "source": [
    "Comment = dataset['body'].str.contains('Comment')\n",
    "Comment1 = Comment.sum()\n",
    "print('Comment got:',Comment1,'occurences')\n",
    "\n",
    "what = dataset['body'].str.contains('what')\n",
    "what1 = what.sum()\n",
    "print('what got:',what1,'occurences')\n",
    "\n",
    "superhero = dataset['body'].str.contains('superhero')\n",
    "superhero1 = superhero.sum()\n",
    "print('superhero got:',superhero1,'occurences')\n",
    "\n",
    "moment = dataset['body'].str.contains('moment')\n",
    "moment1 = moment.sum()\n",
    "print('moment got:',moment1,'occurences')\n",
    "\n",
    "touched =dataset['body'].str.contains('touched')\n",
    "touched1 = touched.sum()\n",
    "print('touched got:',touched1,'occurences')\n",
    "\n",
    "look = dataset['body'].str.contains('look')\n",
    "look1 = look.sum()\n",
    "print('look:',look1,'occurences')"
   ]
  },
  {
   "cell_type": "code",
   "execution_count": 114,
   "metadata": {},
   "outputs": [
    {
     "name": "stdout",
     "output_type": "stream",
     "text": [
      "moon got: 8 occurences\n",
      "title got: 70 occurences\n",
      "heart got: 29 occurences\n",
      "you got: 1040 occurences\n",
      "people got 320 occurences\n"
     ]
    }
   ],
   "source": [
    "moon = dataset['body'].str.contains('moon')\n",
    "moon1 = moon.sum()\n",
    "print('moon got:',moon1,'occurences')\n",
    "\n",
    "title = dataset['body'].str.contains('title')\n",
    "title1 = title.sum()\n",
    "print('title got:',title1,'occurences')\n",
    "\n",
    "heart = dataset['body'].str.contains('heart')\n",
    "heart1 = heart.sum()\n",
    "print('heart got:',heart1,'occurences')\n",
    "\n",
    "you =dataset['body'].str.contains('you')\n",
    "you1 = you.sum()\n",
    "print('you got:',you1,'occurences')\n",
    "\n",
    "people = dataset['body'].str.contains('people')\n",
    "people1 = people.sum()\n",
    "print('people got',people1,'occurences')"
   ]
  },
  {
   "cell_type": "code",
   "execution_count": 115,
   "metadata": {},
   "outputs": [
    {
     "name": "stdout",
     "output_type": "stream",
     "text": [
      "most got: 175 occurences\n",
      "important got: 14 occurences\n",
      "thing got: 516 occurences\n",
      "reddit got: 115 occurences\n",
      "first got: 112 occurences\n",
      "time got  295 occurences\n"
     ]
    }
   ],
   "source": [
    "most = dataset['body'].str.contains('most')\n",
    "most1 = most.sum()\n",
    "print('most got:',most1,'occurences')\n",
    "\n",
    "important = dataset['body'].str.contains('important')\n",
    "important1 =important.sum()\n",
    "print('important got:',important1,'occurences')\n",
    "\n",
    "thing = dataset['body'].str.contains('thing')\n",
    "thing1 = thing.sum()\n",
    "print('thing got:',thing1,'occurences')\n",
    "\n",
    "reddit = dataset['body'].str.contains('reddit')\n",
    "reddit1 = reddit.sum()\n",
    "print('reddit got:',reddit1,'occurences')\n",
    "\n",
    "first =dataset['body'].str.contains('first')\n",
    "first1 = first.sum()\n",
    "print('first got:',first1,'occurences')\n",
    "\n",
    "time = dataset['body'].str.contains('time')\n",
    "time1 =time.sum()\n",
    "print('time got ',time1,'occurences')"
   ]
  },
  {
   "cell_type": "code",
   "execution_count": 135,
   "metadata": {},
   "outputs": [],
   "source": [
    "# Storing sum of occurence of all the keywords that I have guessed and noticed in the dataset"
   ]
  },
  {
   "cell_type": "code",
   "execution_count": 136,
   "metadata": {},
   "outputs": [],
   "source": [
    "body_mainkeyword_list = [Comment1,what1,superhero1,moment1,touched1,look1,moon1,title1,heart1,you1,people1,most1,thing1,reddit1,first1,time1,important1]"
   ]
  },
  {
   "cell_type": "code",
   "execution_count": 137,
   "metadata": {},
   "outputs": [],
   "source": [
    "# Ploting the piechart to see the percentage of all the occurence of the keywords"
   ]
  },
  {
   "cell_type": "code",
   "execution_count": 138,
   "metadata": {},
   "outputs": [
    {
     "data": {
      "image/png": "[encoded data removed]",
      "text/plain": [
       "<Figure size 1080x936 with 1 Axes>"
      ]
     },
     "metadata": {},
     "output_type": "display_data"
    }
   ],
   "source": [
    "val = body_mainkeyword_list\n",
    "label1 = ['Comment','what','superhero','moment','touched','look','moon','title','heart','you','people','most','thing','reddit','first','time','important']\n",
    "fig = plt.figure(figsize =(15, 13)) \n",
    "plt.pie(val, labels = label1, autopct='%1.0f%%');"
   ]
  },
  {
   "cell_type": "code",
   "execution_count": 139,
   "metadata": {},
   "outputs": [
    {
     "data": {
      "text/html": [
       "<div>\n",
       "<style scoped>\n",
       "    .dataframe tbody tr th:only-of-type {\n",
       "        vertical-align: middle;\n",
       "    }\n",
       "\n",
       "    .dataframe tbody tr th {\n",
       "        vertical-align: top;\n",
       "    }\n",
       "\n",
       "    .dataframe thead th {\n",
       "        text-align: right;\n",
       "    }\n",
       "</style>\n",
       "<table border=\"1\" class=\"dataframe\">\n",
       "  <thead>\n",
       "    <tr style=\"text-align: right;\">\n",
       "      <th></th>\n",
       "      <th>title</th>\n",
       "      <th>score</th>\n",
       "      <th>id</th>\n",
       "      <th>url</th>\n",
       "      <th>comms_num</th>\n",
       "      <th>created</th>\n",
       "      <th>body</th>\n",
       "      <th>timestamp</th>\n",
       "    </tr>\n",
       "  </thead>\n",
       "  <tbody>\n",
       "    <tr>\n",
       "      <th>0</th>\n",
       "      <td>What moment touched your heart yesterday?</td>\n",
       "      <td>1</td>\n",
       "      <td>plh0o4</td>\n",
       "      <td>https://www.reddit.com/r/AskReddit/comments/pl...</td>\n",
       "      <td>0</td>\n",
       "      <td>1.631263e+09</td>\n",
       "      <td>NaN</td>\n",
       "      <td>2021-09-10 11:32:35</td>\n",
       "    </tr>\n",
       "    <tr>\n",
       "      <th>1</th>\n",
       "      <td>what would your superhero costume look like?</td>\n",
       "      <td>2</td>\n",
       "      <td>pld5l2</td>\n",
       "      <td>https://www.reddit.com/r/AskReddit/comments/pl...</td>\n",
       "      <td>11</td>\n",
       "      <td>1.631245e+09</td>\n",
       "      <td>NaN</td>\n",
       "      <td>2021-09-10 06:31:43</td>\n",
       "    </tr>\n",
       "    <tr>\n",
       "      <th>2</th>\n",
       "      <td>Comment</td>\n",
       "      <td>1</td>\n",
       "      <td>hcaf574</td>\n",
       "      <td>NaN</td>\n",
       "      <td>0</td>\n",
       "      <td>1.631263e+09</td>\n",
       "      <td>When I was in my last year of undergraduate I ...</td>\n",
       "      <td>2021-09-10 11:32:20</td>\n",
       "    </tr>\n",
       "    <tr>\n",
       "      <th>3</th>\n",
       "      <td>Comment</td>\n",
       "      <td>1</td>\n",
       "      <td>hcaf0eo</td>\n",
       "      <td>NaN</td>\n",
       "      <td>0</td>\n",
       "      <td>1.631263e+09</td>\n",
       "      <td>Noriyuki \"Pat\" Morita aka Mr Miyagi from the K...</td>\n",
       "      <td>2021-09-10 11:30:14</td>\n",
       "    </tr>\n",
       "    <tr>\n",
       "      <th>4</th>\n",
       "      <td>Comment</td>\n",
       "      <td>1</td>\n",
       "      <td>hcaf0e3</td>\n",
       "      <td>NaN</td>\n",
       "      <td>0</td>\n",
       "      <td>1.631263e+09</td>\n",
       "      <td>But don't most people want to look good in Vegas?</td>\n",
       "      <td>2021-09-10 11:30:13</td>\n",
       "    </tr>\n",
       "    <tr>\n",
       "      <th>...</th>\n",
       "      <td>...</td>\n",
       "      <td>...</td>\n",
       "      <td>...</td>\n",
       "      <td>...</td>\n",
       "      <td>...</td>\n",
       "      <td>...</td>\n",
       "      <td>...</td>\n",
       "      <td>...</td>\n",
       "    </tr>\n",
       "    <tr>\n",
       "      <th>11254</th>\n",
       "      <td>Comment</td>\n",
       "      <td>1</td>\n",
       "      <td>hdfxq3p</td>\n",
       "      <td>NaN</td>\n",
       "      <td>0</td>\n",
       "      <td>1.632042e+09</td>\n",
       "      <td>One Cold Morning by Makkon (get to 0:50 and go...</td>\n",
       "      <td>2021-09-19 11:59:22</td>\n",
       "    </tr>\n",
       "    <tr>\n",
       "      <th>11255</th>\n",
       "      <td>Comment</td>\n",
       "      <td>1</td>\n",
       "      <td>hdfxq1q</td>\n",
       "      <td>NaN</td>\n",
       "      <td>0</td>\n",
       "      <td>1.632042e+09</td>\n",
       "      <td>Hop on clash Royale with the boys</td>\n",
       "      <td>2021-09-19 11:59:21</td>\n",
       "    </tr>\n",
       "    <tr>\n",
       "      <th>11256</th>\n",
       "      <td>Comment</td>\n",
       "      <td>1</td>\n",
       "      <td>hdfxq11</td>\n",
       "      <td>NaN</td>\n",
       "      <td>0</td>\n",
       "      <td>1.632042e+09</td>\n",
       "      <td>The Beatles - The Sgt Pepper Lonely Hearts Clu...</td>\n",
       "      <td>2021-09-19 11:59:21</td>\n",
       "    </tr>\n",
       "    <tr>\n",
       "      <th>11257</th>\n",
       "      <td>Comment</td>\n",
       "      <td>1</td>\n",
       "      <td>hdfxpzc</td>\n",
       "      <td>NaN</td>\n",
       "      <td>0</td>\n",
       "      <td>1.632042e+09</td>\n",
       "      <td>You can triple the prices if you make the bran...</td>\n",
       "      <td>2021-09-19 11:59:20</td>\n",
       "    </tr>\n",
       "    <tr>\n",
       "      <th>11258</th>\n",
       "      <td>Comment</td>\n",
       "      <td>1</td>\n",
       "      <td>hdfxpyh</td>\n",
       "      <td>NaN</td>\n",
       "      <td>0</td>\n",
       "      <td>1.632042e+09</td>\n",
       "      <td>Confidence is sexy so this seems legit</td>\n",
       "      <td>2021-09-19 11:59:19</td>\n",
       "    </tr>\n",
       "  </tbody>\n",
       "</table>\n",
       "<p>11259 rows × 8 columns</p>\n",
       "</div>"
      ],
      "text/plain": [
       "                                              title  score       id  \\\n",
       "0         What moment touched your heart yesterday?      1   plh0o4   \n",
       "1      what would your superhero costume look like?      2   pld5l2   \n",
       "2                                           Comment      1  hcaf574   \n",
       "3                                           Comment      1  hcaf0eo   \n",
       "4                                           Comment      1  hcaf0e3   \n",
       "...                                             ...    ...      ...   \n",
       "11254                                       Comment      1  hdfxq3p   \n",
       "11255                                       Comment      1  hdfxq1q   \n",
       "11256                                       Comment      1  hdfxq11   \n",
       "11257                                       Comment      1  hdfxpzc   \n",
       "11258                                       Comment      1  hdfxpyh   \n",
       "\n",
       "                                                     url  comms_num  \\\n",
       "0      https://www.reddit.com/r/AskReddit/comments/pl...          0   \n",
       "1      https://www.reddit.com/r/AskReddit/comments/pl...         11   \n",
       "2                                                    NaN          0   \n",
       "3                                                    NaN          0   \n",
       "4                                                    NaN          0   \n",
       "...                                                  ...        ...   \n",
       "11254                                                NaN          0   \n",
       "11255                                                NaN          0   \n",
       "11256                                                NaN          0   \n",
       "11257                                                NaN          0   \n",
       "11258                                                NaN          0   \n",
       "\n",
       "            created                                               body  \\\n",
       "0      1.631263e+09                                                NaN   \n",
       "1      1.631245e+09                                                NaN   \n",
       "2      1.631263e+09  When I was in my last year of undergraduate I ...   \n",
       "3      1.631263e+09  Noriyuki \"Pat\" Morita aka Mr Miyagi from the K...   \n",
       "4      1.631263e+09  But don't most people want to look good in Vegas?   \n",
       "...             ...                                                ...   \n",
       "11254  1.632042e+09  One Cold Morning by Makkon (get to 0:50 and go...   \n",
       "11255  1.632042e+09                  Hop on clash Royale with the boys   \n",
       "11256  1.632042e+09  The Beatles - The Sgt Pepper Lonely Hearts Clu...   \n",
       "11257  1.632042e+09  You can triple the prices if you make the bran...   \n",
       "11258  1.632042e+09             Confidence is sexy so this seems legit   \n",
       "\n",
       "                 timestamp  \n",
       "0      2021-09-10 11:32:35  \n",
       "1      2021-09-10 06:31:43  \n",
       "2      2021-09-10 11:32:20  \n",
       "3      2021-09-10 11:30:14  \n",
       "4      2021-09-10 11:30:13  \n",
       "...                    ...  \n",
       "11254  2021-09-19 11:59:22  \n",
       "11255  2021-09-19 11:59:21  \n",
       "11256  2021-09-19 11:59:21  \n",
       "11257  2021-09-19 11:59:20  \n",
       "11258  2021-09-19 11:59:19  \n",
       "\n",
       "[11259 rows x 8 columns]"
      ]
     },
     "execution_count": 139,
     "metadata": {},
     "output_type": "execute_result"
    }
   ],
   "source": [
    "dataset=pd.read_csv('ask_reddit.csv')\n",
    "dataset"
   ]
  },
  {
   "cell_type": "code",
   "execution_count": 140,
   "metadata": {},
   "outputs": [
    {
     "data": {
      "image/png": "[encoded data removed]",
      "text/plain": [
       "<Figure size 864x360 with 3 Axes>"
      ]
     },
     "metadata": {
      "needs_background": "light"
     },
     "output_type": "display_data"
    }
   ],
   "source": [
    "plotsize = (12,5)\n",
    "\n",
    "figure, axes = plt.subplots(3,sharex=True)\n",
    "dataset['score'].plot(ax=axes[0],title='Scores',figsize=plotsize)\n",
    "dataset['comms_num'].plot(ax=axes[1],title='Number of Comments',figsize=plotsize)\n",
    "dataset['created'].plot(ax=axes[2],title='Created',figsize=plotsize);"
   ]
  },
  {
   "cell_type": "code",
   "execution_count": 75,
   "metadata": {},
   "outputs": [],
   "source": []
  },
  {
   "cell_type": "code",
   "execution_count": null,
   "metadata": {},
   "outputs": [],
   "source": []
  },
  {
   "cell_type": "code",
   "execution_count": null,
   "metadata": {},
   "outputs": [],
   "source": []
  }
 ],
 "metadata": {
  "kernelspec": {
   "display_name": "Python 3",
   "language": "python",
   "name": "python3"
  },
  "language_info": {
   "codemirror_mode": {
    "name": "ipython",
    "version": 3
   },
   "file_extension": ".py",
   "mimetype": "text/x-python",
   "name": "python",
   "nbconvert_exporter": "python",
   "pygments_lexer": "ipython3",
   "version": "3.8.8"
  }
 },
 "nbformat": 4,
 "nbformat_minor": 4
}
